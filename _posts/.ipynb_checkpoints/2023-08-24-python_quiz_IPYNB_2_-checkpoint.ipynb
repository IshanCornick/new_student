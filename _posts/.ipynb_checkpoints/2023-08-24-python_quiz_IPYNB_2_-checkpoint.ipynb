---
comments: True
layout: post
title: Python Quiz
description: this is a quiz in python that I "made"
type: hacks
permalink: /frontend/python_quiz
courses: {'compsci': {'week': 1}}
categories: ['C4.1']
---

```python
import getpass, sys

def question_with_response(prompt):
    print("Question: " + prompt)
    msg = input()
    return msg

questions = 3
correct = 0

print('Hello, ' + getpass.getuser() + " running " + sys.executable)
print("You will be asked " + str(questions) + " questions.")
question_with_response("Are you ready to take a test?")

rsp = question_with_response("What command is used to include other functions that were previously developed?")
if rsp == "import":
    print(rsp + " is correct!")
    correct += 1
else:
    print(rsp + " is incorrect!")

rsp = question_with_response("What command is used to evaluate correct or incorrect response in this example?")
if rsp == "if":
    print(rsp + " is correct!")
    correct += 1
else:
    print(rsp + " is incorrect!")

rsp = question_with_response("Each 'if' command contains an '_________' to determine a true or false condition?")
if rsp == "expression":
    print(rsp + " is correct!")
    correct += 1
else:
    print(rsp + " is incorrect!")
print(getpass.getuser() + " you scored " + str((correct/questions * 100)//1) + '% of the questions correct' )
```

    Hello, Ishan running /usr/local/opt/python@3.11/bin/python3.11
    You will be asked 3 questions.
    Question: Are you ready to take a test?
     yes
    Question: What command is used to include other functions that were previously developed?
     import
    import is correct!
    Question: What command is used to evaluate correct or incorrect response in this example?
     if
    if is correct!
    Question: Each 'if' command contains an '_________' to determine a true or false condition?
     expression
    expression is correct!
    Ishan you scored 100.0% of the questions correct

