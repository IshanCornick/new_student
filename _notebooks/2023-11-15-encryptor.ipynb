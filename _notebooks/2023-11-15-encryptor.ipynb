{
 "cells": [
  {
   "cell_type": "markdown",
   "metadata": {},
   "source": [
    "---\n",
    "toc: true\n",
    "comments: true\n",
    "layout: hack\n",
    "title: Match the image!\n",
    "description: Match the image to the same one to win!\n",
    "type: hacks\n",
    "courses: { compsci: {week: 8} }\n",
    "---"
   ]
  },
  {
   "cell_type": "code",
   "execution_count": 2,
   "metadata": {},
   "outputs": [
    {
     "name": "stdout",
     "output_type": "stream",
     "text": [
      "The binary representation of 'saaithvik' is: 01110011 01100001 01100001 01101001 01110100 01101000 01110110 01101001 01101011\n"
     ]
    }
   ],
   "source": [
    "def word_to_binary(word):\n",
    "    binary_result = \"\"\n",
    "    for char in word:\n",
    "        binary_char = bin(ord(char))[2:]\n",
    "        binary_char = binary_char.zfill(8)\n",
    "        binary_result += binary_char + \" \"\n",
    "\n",
    "    return binary_result.strip()\n",
    "\n",
    "word_to_encrypt = input(\"Enter a word to encrypt: \")\n",
    "encrypted_result = word_to_binary(word_to_encrypt)\n",
    "print(f\"The binary representation of '{word_to_encrypt}' is: {encrypted_result}\")\n"
   ]
  }
 ],
 "metadata": {
  "kernelspec": {
   "display_name": "Python 3",
   "language": "python",
   "name": "python3"
  },
  "language_info": {
   "codemirror_mode": {
    "name": "ipython",
    "version": 3
   },
   "file_extension": ".py",
   "mimetype": "text/x-python",
   "name": "python",
   "nbconvert_exporter": "python",
   "pygments_lexer": "ipython3",
   "version": "3.11.5"
  },
  "orig_nbformat": 4
 },
 "nbformat": 4,
 "nbformat_minor": 2
}
