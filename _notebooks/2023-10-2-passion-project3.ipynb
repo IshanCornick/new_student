{
 "cells": [
  {
   "cell_type": "markdown",
   "metadata": {},
   "source": [
    "---\n",
    "layout: post\n",
    "title: Worlde\n",
    "description: Worlde game in python\n",
    "type: hacks\n",
    "courses: { compsci: {week: 5} }\n",
    "---"
   ]
  },
  {
   "cell_type": "code",
   "execution_count": 1,
   "metadata": {},
   "outputs": [
    {
     "name": "stdout",
     "output_type": "stream",
     "text": [
      "Check instructions to learn how to play!\n",
      "5 letters only\n",
      "-----\n",
      "⚫c\n",
      "⚫r\n",
      "⚫e\n",
      "⚫a\n",
      "⚫m\n",
      "-----\n",
      "⚫c\n",
      "⚫r\n",
      "⚫e\n",
      "⚫a\n",
      "⚫m\n",
      "-----\n",
      "⚫a\n",
      "⚫d\n",
      "🟢i\n",
      "⚫e\n",
      "⚫u\n",
      "5 letters only\n",
      "NOT VALID WORD\n",
      "-----\n",
      "⚫p\n",
      "⚫e\n",
      "🟡n\n",
      "🟡i\n",
      "⚫s\n",
      "-----\n",
      "⚫p\n",
      "⚫e\n",
      "🟡n\n",
      "🟡i\n",
      "⚫s\n",
      "5 letters only\n",
      "-----\n",
      "⚫b\n",
      "⚫r\n",
      "🟢i\n",
      "⚫d\n",
      "⚫e\n",
      "The answer is:\n",
      "hying\n"
     ]
    }
   ],
   "source": [
    "#!/bin/python3\n",
    "\n",
    "#Check instructions to learn how to play!\n",
    "\n",
    "import random\n",
    "with open(\"word_list.txt\",'r') as f:\n",
    "  word_list = [line.rstrip('\\n') for line in f] \n",
    "\n",
    "print (\"Check instructions to learn how to play!\")\n",
    "answer = random.choice(word_list)\n",
    "# 5 letter words\n",
    "i=0\n",
    "while i<6:\n",
    "  q = input(\"Enter your 5 letter word\")\n",
    "  if len(q) != 5:\n",
    "    print (\"5 letters only\")\n",
    "    continue\n",
    "  if q not in word_list:\n",
    "    print (\"NOT VALID WORD\")\n",
    "    continue\n",
    "# Is the word in there?  \n",
    "  print (\"-----\")\n",
    "  for j in q:\n",
    "    if q.find(j) == answer.find(j):\n",
    "      print (\"🟢\" + j)\n",
    "    elif j in answer:\n",
    "      print (\"🟡\" + j)\n",
    "    else:\n",
    "      print (\"⚫\" + j)\n",
    "    \n",
    "  if q == answer:\n",
    "    print (\"You win!🎉🎉🎉\")\n",
    "    break\n",
    "# is the letter in position\n",
    "  \n",
    "  i+=1  \n",
    "  if i==6:\n",
    "    print (\"The answer is:\")\n",
    "    print (answer)"
   ]
  }
 ],
 "metadata": {
  "kernelspec": {
   "display_name": "Python 3",
   "language": "python",
   "name": "python3"
  },
  "language_info": {
   "codemirror_mode": {
    "name": "ipython",
    "version": 3
   },
   "file_extension": ".py",
   "mimetype": "text/x-python",
   "name": "python",
   "nbconvert_exporter": "python",
   "pygments_lexer": "ipython3",
   "version": "3.11.5"
  },
  "orig_nbformat": 4
 },
 "nbformat": 4,
 "nbformat_minor": 2
}
