{
 "cells": [
  {
   "cell_type": "markdown",
   "metadata": {},
   "source": [
    "---\n",
    "toc: True\n",
    "comments: true\n",
    "layout: post\n",
    "title: Simulations - Student Teach\n",
    "description: Student Lesson\n",
    "type: tangibles\n",
    "courses: { compsci: {week: 11} }\n",
    "---"
   ]
  },
  {
   "cell_type": "markdown",
   "metadata": {},
   "source": [
    "## Simulations \n"
   ]
  },
  {
   "cell_type": "markdown",
   "metadata": {},
   "source": [
    "> A simulation is the use of a computer software to represent the dynamic responses of one system by the behaviour of another system modeled after it. A simulation uses a mathematical descriptions, or models, of a real system in the form of a computer program."
   ]
  },
  {
   "cell_type": "markdown",
   "metadata": {},
   "source": [
    "![simulation](https://www.simscale.com/wp-content/uploads/2022/11/dron-quadcopter-simulation.png)"
   ]
  },
  {
   "cell_type": "markdown",
   "metadata": {},
   "source": [
    "## College Board Essential Knowledge"
   ]
  },
  {
   "cell_type": "markdown",
   "metadata": {},
   "source": [
    "> Simulation are absractions of more complex objects or phenomena for a specific purpose \n",
    "\n",
    "- Mimic Real World Events\n",
    "- Allows investigation of phenomenons without contraints of the Real World\n",
    "- Helps you draw accurate inferences\n",
    "\n",
    "> Simulations utilize varying sets of values to reflect the changings states of a phenomenon\n",
    "\n",
    "- simulations can simplfly things for functionality\n",
    "- Simulations can contain bias from real world elements, that were chosen to be included or excluded\n",
    "\n",
    "> Simulations work best when the real world experemnts are too impractical or time consuming. For example, simulating how different cars behave when they crash, would be much better than crashng actual cars in the real world, which would be expensive and dangerous.\n",
    "\n",
    "<a href=\"https://ibb.co/f4jKcBY\"><img src=\"https://i.ibb.co/NZck4Q6/simulations-vs-experiments.png\" alt=\"simulations-vs-experiments\" border=\"0\"></a>\n"
   ]
  },
  {
   "cell_type": "markdown",
   "metadata": {},
   "source": [
    "## Rolling the Dice"
   ]
  },
  {
   "cell_type": "markdown",
   "metadata": {},
   "source": [
    "<a href=\"https://ibb.co/PGBhfPD\"><img src=\"https://i.ibb.co/XxmsvKY/craps-rolling-seven-7.jpg\" alt=\"craps-rolling-seven-7\" border=\"0\"></a>\n",
    "\n",
    "> Simulating something like a dice roll in real life would require accounting for things like: weight, flaws in design, thrust, and gravity.\n",
    "- KEEP IT SIMPLE! just use a random-number generator! Ignore minor causes of variablility"
   ]
  },
  {
   "cell_type": "markdown",
   "metadata": {},
   "source": [
    "## Random"
   ]
  },
  {
   "cell_type": "markdown",
   "metadata": {},
   "source": [
    "- \"Random\" is a built-in python function that allow the user to draw a random value from a set range.\n",
    "- A Random Number Generator (RNG) is a common simulation that selects a random value from an array.\n",
    "- The following code cell utilizes \"random\" to select a number from 1 to 100."
   ]
  },
  {
   "cell_type": "code",
   "execution_count": null,
   "metadata": {},
   "outputs": [],
   "source": [
    "#imports random module so we can use it in our code\n",
    "import random\n",
    "\n",
    "#sets variable random_number as a random number between 1 and 100\n",
    "random_number = random.randint(1, 100)\n",
    "\n",
    "#Printing out your random Number\n",
    "print(random_number)"
   ]
  },
  {
   "cell_type": "markdown",
   "metadata": {},
   "source": [
    "## More complex usage of \"random\"; Coin Toss Simulation"
   ]
  },
  {
   "cell_type": "code",
   "execution_count": null,
   "metadata": {},
   "outputs": [],
   "source": [
    "import random\n",
    "def flip_coin():\n",
    "    return random.choice([\"Heads\", \"Tails\"])\n",
    "def coin_flip_simulation(num_flips):\n",
    "    heads_count = 0\n",
    "    tails_count = 0\n",
    "    for _ in range(num_flips):\n",
    "        result = flip_coin()\n",
    "        if result == \"Heads\":\n",
    "            heads_count += 1\n",
    "        else:\n",
    "            tails_count += 1\n",
    "    return heads_count, tails_count\n",
    "if __name__ == \"__main__\":\n",
    "    num_flips = 1000  #This is the number of coin flips you want to simulate\n",
    "    heads, tails = coin_flip_simulation(num_flips)\n",
    "    print(\"Number of Heads: \"+ str(heads))\n",
    "    print(\"Number of Tails: \" + str(tails))\n",
    "    print(\"Heads Probability: \"+ str({heads / num_flips}))\n",
    "    print(\"Tails Probability: \"+ str({tails / num_flips}))"
   ]
  },
  {
   "cell_type": "markdown",
   "metadata": {},
   "source": [
    "## Popcorn Hack #1"
   ]
  },
  {
   "cell_type": "markdown",
   "metadata": {},
   "source": [
    "Utilize \"random\" to create a basic simulation of a rolling TWO dice. Print the sum of both dice rolls. Remember to practice good syntax when naming your variables. "
   ]
  },
  {
   "cell_type": "code",
   "execution_count": 10,
   "metadata": {},
   "outputs": [
    {
     "name": "stdout",
     "output_type": "stream",
     "text": [
      "5\n"
     ]
    }
   ],
   "source": [
    "import random\n",
    "\n",
    "dice1 = random.randint(0,6)\n",
    "dice2 = random.randint(0,6)\n",
    "print(dice1+dice2)\n",
    "#Code, Code, Code"
   ]
  },
  {
   "cell_type": "markdown",
   "metadata": {},
   "source": [
    "## Algorithms\n",
    ">Simulations often utilize algorithms and equations to perform tasks because simulations don't always have the same output\n",
    "- the output of a simulation depends on the input\n",
    "\n",
    ">An algorithm is a finite sequence of instructions used to solve problems or perform computations. \n",
    "- commonly used alongside functions\n"
   ]
  },
  {
   "cell_type": "markdown",
   "metadata": {},
   "source": [
    "## Example Algorithm in a function"
   ]
  },
  {
   "cell_type": "code",
   "execution_count": 42,
   "metadata": {},
   "outputs": [
    {
     "data": {
      "text/plain": [
       "7"
      ]
     },
     "execution_count": 42,
     "metadata": {},
     "output_type": "execute_result"
    }
   ],
   "source": [
    "#Defining Function\n",
    "def algorithm(input):\n",
    "    \n",
    "    #Manipulating input and preparing it for the output.  \n",
    "    output = input+2\n",
    "    \n",
    "    #Return the output\n",
    "    return output\n",
    "\n",
    "#Call the Function to start the algorithm\n",
    "algorithm(5)\n",
    "    "
   ]
  },
  {
   "cell_type": "markdown",
   "metadata": {},
   "source": [
    "## Mathematics\n",
    "- Math can also prove to be very useful in certain types of situations.\n",
    "- Commonly used along with Algorithms when simulating various things\n",
    "\n",
    "![math](https://pythontutorialhome.files.wordpress.com/2019/05/image-2.png)\n"
   ]
  },
  {
   "cell_type": "markdown",
   "metadata": {},
   "source": [
    "## Popcorn Hack #2"
   ]
  },
  {
   "cell_type": "markdown",
   "metadata": {},
   "source": [
    "Simulate how long an object will fall for using an algorithm, with user-inputed variables for height dropped. Use the following formula as a reference.\n",
    "\n",
    "![gravity ](https://hepweb.ucsd.edu/ph110b/110b_notes/img272.png)\n",
    "\n",
    "- t = time (output)\n",
    "- h = height dropped from (input)\n",
    "- g = constant (given)"
   ]
  },
  {
   "cell_type": "code",
   "execution_count": 16,
   "metadata": {},
   "outputs": [
    {
     "name": "stdout",
     "output_type": "stream",
     "text": [
      "10.19367991845056\n"
     ]
    }
   ],
   "source": [
    "# Constant, Acceleration due to gravity (m/s^2)\n",
    "import math\n",
    "G = 9.81 \n",
    "\n",
    "def simulation(h):\n",
    "    t = (2*h/G)**1/2\n",
    "    return t\n",
    "print(simulation(100))"
   ]
  },
  {
   "cell_type": "markdown",
   "metadata": {},
   "source": [
    "# Using Loops in Simulations"
   ]
  },
  {
   "cell_type": "markdown",
   "metadata": {},
   "source": [
    "> For loops can also be used in simulations\n",
    "- They can simulate events that repeat but don't always have the same output\n"
   ]
  },
  {
   "cell_type": "code",
   "execution_count": 44,
   "metadata": {},
   "outputs": [
    {
     "name": "stdout",
     "output_type": "stream",
     "text": [
      "This is run number: 0\n",
      "This is run number: 1\n",
      "This is run number: 2\n",
      "This is run number: 3\n"
     ]
    }
   ],
   "source": [
    "# Example For Loop\n",
    "\n",
    "#Creating For Loop to repeat 4 times\n",
    "for i in range(4):\n",
    "    \n",
    "    #Action that happens inside for loop\n",
    "    print(\"This is run number: \" + str(i))\n",
    "    "
   ]
  },
  {
   "cell_type": "markdown",
   "metadata": {},
   "source": [
    "## Popcorn Hack #3"
   ]
  },
  {
   "cell_type": "markdown",
   "metadata": {},
   "source": [
    "You are gambling addict (sigma). \n",
    "\n",
    "Each session you roll 2 dice.\n",
    "\n",
    "If your dice roll is greater than or equal to 9 you win the session.\n",
    "\n",
    "If you win over 5 sessions, you win the jackpot.\n",
    "\n",
    "Simulate your odds to predict if you will hit the jackpot (how many rounds did you win?) using a for loop and random.\n"
   ]
  },
  {
   "cell_type": "code",
   "execution_count": 30,
   "metadata": {},
   "outputs": [
    {
     "name": "stdout",
     "output_type": "stream",
     "text": [
      "You won 53 sessions.\n",
      "You won 32 jackpots.\n",
      "Chance to win a session is 53/200\n",
      "Chance to win a jackpot after 5 sessions is 32/200\n"
     ]
    }
   ],
   "source": [
    "import random\n",
    "import math\n",
    "sessions_won = 0\n",
    "jackpots_hit = 0\n",
    "for i in range (200):   \n",
    "    num = random.randint(1, 6) + random.randint(1, 6)\n",
    "    if num >= 9:\n",
    "        sessions_won +=1\n",
    "    if sessions_won%5==0:\n",
    "        jackpots_hit +=1\n",
    "print (\"You won \"+ str(sessions_won) + \" sessions.\")\n",
    "print (\"You won \"+ str(jackpots_hit) + \" jackpots.\")\n",
    "chance1 = sessions_won/200\n",
    "chance2 = jackpots_hit/40\n",
    "print (\"Chance to win a session is \" + str(sessions_won)+\"/200\")\n",
    "print (\"Chance to win a jackpot after 5 sessions is \" + str(jackpots_hit)+\"/40\")\n",
    "        \n"
   ]
  },
  {
   "cell_type": "markdown",
   "metadata": {},
   "source": [
    "## BONUS POPCORN HACK\n",
    "> Welcome to Flight Simulator! Your goal is to complete a Python program that simulates a flight We've set up some initial values for altitude, speed, and fuel. Your task is to update these values to make the flight more realistic.\n",
    "\n",
    "- Your mission:\n",
    "\n",
    "1. Use random changes to simulate altitude, speed, and fuel changes.\n",
    "2. Keep the flight going until it reaches 10,000 feet or runs out of fuel.\n",
    "3. Make sure altitude, speed, and fuel remain realistic."
   ]
  },
  {
   "cell_type": "code",
   "execution_count": 31,
   "metadata": {},
   "outputs": [
    {
     "name": "stdout",
     "output_type": "stream",
     "text": [
      "Welcome to Flight Simulator!\n",
      "Altitude: 6 feet, Speed: 94 knots, Fuel: 996 gallons\n",
      "Altitude: 100 feet, Speed: 104 knots, Fuel: 991 gallons\n",
      "Altitude: 139 feet, Speed: 100 knots, Fuel: 987 gallons\n",
      "Altitude: 219 feet, Speed: 102 knots, Fuel: 982 gallons\n",
      "Altitude: 258 feet, Speed: 98 knots, Fuel: 981 gallons\n",
      "Altitude: 357 feet, Speed: 100 knots, Fuel: 977 gallons\n",
      "Altitude: 421 feet, Speed: 105 knots, Fuel: 976 gallons\n",
      "Altitude: 516 feet, Speed: 106 knots, Fuel: 974 gallons\n",
      "Altitude: 600 feet, Speed: 109 knots, Fuel: 969 gallons\n",
      "Altitude: 655 feet, Speed: 102 knots, Fuel: 965 gallons\n",
      "Altitude: 750 feet, Speed: 99 knots, Fuel: 963 gallons\n",
      "Altitude: 849 feet, Speed: 89 knots, Fuel: 959 gallons\n",
      "Altitude: 913 feet, Speed: 87 knots, Fuel: 954 gallons\n",
      "Altitude: 994 feet, Speed: 89 knots, Fuel: 952 gallons\n",
      "Altitude: 1037 feet, Speed: 88 knots, Fuel: 947 gallons\n",
      "Altitude: 1096 feet, Speed: 82 knots, Fuel: 944 gallons\n",
      "Altitude: 1125 feet, Speed: 78 knots, Fuel: 943 gallons\n",
      "Altitude: 1151 feet, Speed: 73 knots, Fuel: 938 gallons\n",
      "Altitude: 1243 feet, Speed: 80 knots, Fuel: 937 gallons\n",
      "Altitude: 1342 feet, Speed: 83 knots, Fuel: 934 gallons\n",
      "Altitude: 1401 feet, Speed: 77 knots, Fuel: 933 gallons\n",
      "Altitude: 1423 feet, Speed: 77 knots, Fuel: 929 gallons\n",
      "Altitude: 1459 feet, Speed: 70 knots, Fuel: 927 gallons\n",
      "Altitude: 1469 feet, Speed: 67 knots, Fuel: 924 gallons\n",
      "Altitude: 1512 feet, Speed: 62 knots, Fuel: 922 gallons\n",
      "Altitude: 1577 feet, Speed: 65 knots, Fuel: 917 gallons\n",
      "Altitude: 1649 feet, Speed: 60 knots, Fuel: 915 gallons\n",
      "Altitude: 1726 feet, Speed: 60 knots, Fuel: 911 gallons\n",
      "Altitude: 1769 feet, Speed: 65 knots, Fuel: 909 gallons\n",
      "Altitude: 1805 feet, Speed: 70 knots, Fuel: 906 gallons\n",
      "Altitude: 1845 feet, Speed: 73 knots, Fuel: 901 gallons\n",
      "Altitude: 1925 feet, Speed: 70 knots, Fuel: 896 gallons\n",
      "Altitude: 2000 feet, Speed: 67 knots, Fuel: 891 gallons\n",
      "Altitude: 2031 feet, Speed: 65 knots, Fuel: 888 gallons\n",
      "Altitude: 2040 feet, Speed: 64 knots, Fuel: 887 gallons\n",
      "Altitude: 2087 feet, Speed: 73 knots, Fuel: 882 gallons\n",
      "Altitude: 2128 feet, Speed: 81 knots, Fuel: 877 gallons\n",
      "Altitude: 2160 feet, Speed: 88 knots, Fuel: 874 gallons\n",
      "Altitude: 2187 feet, Speed: 92 knots, Fuel: 869 gallons\n",
      "Altitude: 2229 feet, Speed: 99 knots, Fuel: 864 gallons\n",
      "Altitude: 2260 feet, Speed: 97 knots, Fuel: 859 gallons\n",
      "Altitude: 2271 feet, Speed: 89 knots, Fuel: 856 gallons\n",
      "Altitude: 2306 feet, Speed: 95 knots, Fuel: 851 gallons\n",
      "Altitude: 2317 feet, Speed: 104 knots, Fuel: 847 gallons\n",
      "Altitude: 2333 feet, Speed: 97 knots, Fuel: 843 gallons\n",
      "Altitude: 2426 feet, Speed: 88 knots, Fuel: 840 gallons\n",
      "Altitude: 2516 feet, Speed: 97 knots, Fuel: 837 gallons\n",
      "Altitude: 2571 feet, Speed: 90 knots, Fuel: 833 gallons\n",
      "Altitude: 2654 feet, Speed: 100 knots, Fuel: 832 gallons\n",
      "Altitude: 2655 feet, Speed: 90 knots, Fuel: 831 gallons\n",
      "Altitude: 2749 feet, Speed: 98 knots, Fuel: 828 gallons\n",
      "Altitude: 2781 feet, Speed: 93 knots, Fuel: 827 gallons\n",
      "Altitude: 2802 feet, Speed: 94 knots, Fuel: 825 gallons\n",
      "Altitude: 2820 feet, Speed: 84 knots, Fuel: 824 gallons\n",
      "Altitude: 2821 feet, Speed: 87 knots, Fuel: 822 gallons\n",
      "Altitude: 2823 feet, Speed: 89 knots, Fuel: 820 gallons\n",
      "Altitude: 2916 feet, Speed: 98 knots, Fuel: 816 gallons\n",
      "Altitude: 3016 feet, Speed: 103 knots, Fuel: 815 gallons\n",
      "Altitude: 3057 feet, Speed: 95 knots, Fuel: 812 gallons\n",
      "Altitude: 3081 feet, Speed: 90 knots, Fuel: 807 gallons\n",
      "Altitude: 3153 feet, Speed: 99 knots, Fuel: 804 gallons\n",
      "Altitude: 3242 feet, Speed: 91 knots, Fuel: 801 gallons\n",
      "Altitude: 3338 feet, Speed: 93 knots, Fuel: 797 gallons\n",
      "Altitude: 3379 feet, Speed: 96 knots, Fuel: 796 gallons\n",
      "Altitude: 3395 feet, Speed: 100 knots, Fuel: 795 gallons\n",
      "Altitude: 3422 feet, Speed: 110 knots, Fuel: 793 gallons\n",
      "Altitude: 3511 feet, Speed: 118 knots, Fuel: 791 gallons\n",
      "Altitude: 3596 feet, Speed: 118 knots, Fuel: 788 gallons\n",
      "Altitude: 3643 feet, Speed: 123 knots, Fuel: 783 gallons\n",
      "Altitude: 3673 feet, Speed: 121 knots, Fuel: 782 gallons\n",
      "Altitude: 3723 feet, Speed: 131 knots, Fuel: 780 gallons\n",
      "Altitude: 3728 feet, Speed: 139 knots, Fuel: 778 gallons\n",
      "Altitude: 3740 feet, Speed: 148 knots, Fuel: 774 gallons\n",
      "Altitude: 3791 feet, Speed: 144 knots, Fuel: 771 gallons\n",
      "Altitude: 3867 feet, Speed: 139 knots, Fuel: 766 gallons\n",
      "Altitude: 3873 feet, Speed: 148 knots, Fuel: 765 gallons\n",
      "Altitude: 3895 feet, Speed: 150 knots, Fuel: 764 gallons\n",
      "Altitude: 3918 feet, Speed: 150 knots, Fuel: 761 gallons\n",
      "Altitude: 3954 feet, Speed: 142 knots, Fuel: 760 gallons\n",
      "Altitude: 4048 feet, Speed: 152 knots, Fuel: 756 gallons\n",
      "Altitude: 4106 feet, Speed: 155 knots, Fuel: 752 gallons\n",
      "Altitude: 4201 feet, Speed: 153 knots, Fuel: 749 gallons\n",
      "Altitude: 4254 feet, Speed: 146 knots, Fuel: 744 gallons\n",
      "Altitude: 4302 feet, Speed: 140 knots, Fuel: 742 gallons\n",
      "Altitude: 4367 feet, Speed: 134 knots, Fuel: 739 gallons\n",
      "Altitude: 4451 feet, Speed: 134 knots, Fuel: 736 gallons\n",
      "Altitude: 4484 feet, Speed: 134 knots, Fuel: 733 gallons\n",
      "Altitude: 4492 feet, Speed: 131 knots, Fuel: 730 gallons\n",
      "Altitude: 4552 feet, Speed: 128 knots, Fuel: 726 gallons\n",
      "Altitude: 4622 feet, Speed: 138 knots, Fuel: 724 gallons\n",
      "Altitude: 4636 feet, Speed: 143 knots, Fuel: 723 gallons\n",
      "Altitude: 4640 feet, Speed: 152 knots, Fuel: 721 gallons\n",
      "Altitude: 4644 feet, Speed: 145 knots, Fuel: 719 gallons\n",
      "Altitude: 4728 feet, Speed: 150 knots, Fuel: 716 gallons\n",
      "Altitude: 4755 feet, Speed: 143 knots, Fuel: 714 gallons\n",
      "Altitude: 4803 feet, Speed: 141 knots, Fuel: 709 gallons\n",
      "Altitude: 4816 feet, Speed: 147 knots, Fuel: 704 gallons\n",
      "Altitude: 4859 feet, Speed: 149 knots, Fuel: 699 gallons\n",
      "Altitude: 4916 feet, Speed: 141 knots, Fuel: 694 gallons\n",
      "Altitude: 5009 feet, Speed: 149 knots, Fuel: 693 gallons\n",
      "Altitude: 5053 feet, Speed: 150 knots, Fuel: 692 gallons\n",
      "Altitude: 5070 feet, Speed: 152 knots, Fuel: 691 gallons\n",
      "Altitude: 5081 feet, Speed: 159 knots, Fuel: 690 gallons\n",
      "Altitude: 5117 feet, Speed: 157 knots, Fuel: 687 gallons\n",
      "Altitude: 5157 feet, Speed: 151 knots, Fuel: 683 gallons\n",
      "Altitude: 5200 feet, Speed: 159 knots, Fuel: 682 gallons\n",
      "Altitude: 5247 feet, Speed: 151 knots, Fuel: 681 gallons\n",
      "Altitude: 5312 feet, Speed: 146 knots, Fuel: 676 gallons\n",
      "Altitude: 5316 feet, Speed: 141 knots, Fuel: 673 gallons\n",
      "Altitude: 5347 feet, Speed: 135 knots, Fuel: 670 gallons\n",
      "Altitude: 5437 feet, Speed: 130 knots, Fuel: 669 gallons\n",
      "Altitude: 5496 feet, Speed: 126 knots, Fuel: 666 gallons\n",
      "Altitude: 5505 feet, Speed: 126 knots, Fuel: 664 gallons\n",
      "Altitude: 5546 feet, Speed: 123 knots, Fuel: 661 gallons\n",
      "Altitude: 5643 feet, Speed: 133 knots, Fuel: 660 gallons\n",
      "Altitude: 5670 feet, Speed: 127 knots, Fuel: 658 gallons\n",
      "Altitude: 5732 feet, Speed: 118 knots, Fuel: 654 gallons\n",
      "Altitude: 5820 feet, Speed: 109 knots, Fuel: 650 gallons\n",
      "Altitude: 5877 feet, Speed: 101 knots, Fuel: 648 gallons\n",
      "Altitude: 5931 feet, Speed: 110 knots, Fuel: 643 gallons\n",
      "Altitude: 5959 feet, Speed: 115 knots, Fuel: 638 gallons\n",
      "Altitude: 6049 feet, Speed: 119 knots, Fuel: 637 gallons\n",
      "Altitude: 6076 feet, Speed: 129 knots, Fuel: 632 gallons\n",
      "Altitude: 6148 feet, Speed: 125 knots, Fuel: 629 gallons\n",
      "Altitude: 6208 feet, Speed: 115 knots, Fuel: 625 gallons\n",
      "Altitude: 6252 feet, Speed: 106 knots, Fuel: 622 gallons\n",
      "Altitude: 6298 feet, Speed: 115 knots, Fuel: 618 gallons\n",
      "Altitude: 6355 feet, Speed: 125 knots, Fuel: 617 gallons\n",
      "Altitude: 6444 feet, Speed: 123 knots, Fuel: 613 gallons\n",
      "Altitude: 6487 feet, Speed: 116 knots, Fuel: 610 gallons\n",
      "Altitude: 6497 feet, Speed: 106 knots, Fuel: 605 gallons\n",
      "Altitude: 6500 feet, Speed: 97 knots, Fuel: 604 gallons\n",
      "Altitude: 6502 feet, Speed: 102 knots, Fuel: 600 gallons\n",
      "Altitude: 6555 feet, Speed: 100 knots, Fuel: 597 gallons\n",
      "Altitude: 6579 feet, Speed: 109 knots, Fuel: 592 gallons\n",
      "Altitude: 6667 feet, Speed: 112 knots, Fuel: 588 gallons\n",
      "Altitude: 6683 feet, Speed: 109 knots, Fuel: 587 gallons\n",
      "Altitude: 6752 feet, Speed: 116 knots, Fuel: 586 gallons\n",
      "Altitude: 6852 feet, Speed: 123 knots, Fuel: 584 gallons\n",
      "Altitude: 6856 feet, Speed: 122 knots, Fuel: 583 gallons\n",
      "Altitude: 6928 feet, Speed: 131 knots, Fuel: 582 gallons\n",
      "Altitude: 6931 feet, Speed: 127 knots, Fuel: 578 gallons\n",
      "Altitude: 6947 feet, Speed: 125 knots, Fuel: 576 gallons\n",
      "Altitude: 7008 feet, Speed: 134 knots, Fuel: 575 gallons\n",
      "Altitude: 7056 feet, Speed: 144 knots, Fuel: 570 gallons\n",
      "Altitude: 7140 feet, Speed: 150 knots, Fuel: 569 gallons\n",
      "Altitude: 7189 feet, Speed: 147 knots, Fuel: 566 gallons\n",
      "Altitude: 7221 feet, Speed: 152 knots, Fuel: 561 gallons\n",
      "Altitude: 7247 feet, Speed: 144 knots, Fuel: 558 gallons\n",
      "Altitude: 7293 feet, Speed: 149 knots, Fuel: 554 gallons\n",
      "Altitude: 7380 feet, Speed: 142 knots, Fuel: 551 gallons\n",
      "Altitude: 7459 feet, Speed: 146 knots, Fuel: 549 gallons\n",
      "Altitude: 7462 feet, Speed: 156 knots, Fuel: 544 gallons\n",
      "Altitude: 7520 feet, Speed: 152 knots, Fuel: 543 gallons\n",
      "Altitude: 7594 feet, Speed: 158 knots, Fuel: 542 gallons\n",
      "Altitude: 7659 feet, Speed: 148 knots, Fuel: 540 gallons\n",
      "Altitude: 7731 feet, Speed: 156 knots, Fuel: 535 gallons\n",
      "Altitude: 7732 feet, Speed: 164 knots, Fuel: 533 gallons\n",
      "Altitude: 7755 feet, Speed: 168 knots, Fuel: 531 gallons\n",
      "Altitude: 7771 feet, Speed: 175 knots, Fuel: 527 gallons\n",
      "Altitude: 7788 feet, Speed: 175 knots, Fuel: 522 gallons\n",
      "Altitude: 7815 feet, Speed: 176 knots, Fuel: 521 gallons\n",
      "Altitude: 7819 feet, Speed: 180 knots, Fuel: 517 gallons\n",
      "Altitude: 7823 feet, Speed: 181 knots, Fuel: 514 gallons\n",
      "Altitude: 7850 feet, Speed: 190 knots, Fuel: 509 gallons\n",
      "Altitude: 7872 feet, Speed: 188 knots, Fuel: 506 gallons\n",
      "Altitude: 7941 feet, Speed: 195 knots, Fuel: 501 gallons\n",
      "Altitude: 7981 feet, Speed: 200 knots, Fuel: 498 gallons\n",
      "Altitude: 8042 feet, Speed: 210 knots, Fuel: 494 gallons\n",
      "Altitude: 8046 feet, Speed: 219 knots, Fuel: 489 gallons\n",
      "Altitude: 8114 feet, Speed: 229 knots, Fuel: 484 gallons\n",
      "Altitude: 8118 feet, Speed: 239 knots, Fuel: 483 gallons\n",
      "Altitude: 8200 feet, Speed: 247 knots, Fuel: 478 gallons\n",
      "Altitude: 8238 feet, Speed: 246 knots, Fuel: 473 gallons\n",
      "Altitude: 8241 feet, Speed: 255 knots, Fuel: 471 gallons\n",
      "Altitude: 8330 feet, Speed: 246 knots, Fuel: 470 gallons\n",
      "Altitude: 8388 feet, Speed: 244 knots, Fuel: 466 gallons\n",
      "Altitude: 8450 feet, Speed: 241 knots, Fuel: 465 gallons\n",
      "Altitude: 8464 feet, Speed: 235 knots, Fuel: 461 gallons\n",
      "Altitude: 8472 feet, Speed: 237 knots, Fuel: 460 gallons\n",
      "Altitude: 8507 feet, Speed: 246 knots, Fuel: 456 gallons\n",
      "Altitude: 8532 feet, Speed: 244 knots, Fuel: 452 gallons\n",
      "Altitude: 8580 feet, Speed: 251 knots, Fuel: 447 gallons\n",
      "Altitude: 8636 feet, Speed: 241 knots, Fuel: 443 gallons\n",
      "Altitude: 8698 feet, Speed: 245 knots, Fuel: 439 gallons\n",
      "Altitude: 8791 feet, Speed: 245 knots, Fuel: 435 gallons\n",
      "Altitude: 8826 feet, Speed: 252 knots, Fuel: 431 gallons\n",
      "Altitude: 8860 feet, Speed: 246 knots, Fuel: 430 gallons\n",
      "Altitude: 8886 feet, Speed: 252 knots, Fuel: 427 gallons\n",
      "Altitude: 8969 feet, Speed: 251 knots, Fuel: 424 gallons\n",
      "Altitude: 9011 feet, Speed: 255 knots, Fuel: 420 gallons\n",
      "Altitude: 9018 feet, Speed: 264 knots, Fuel: 416 gallons\n",
      "Altitude: 9036 feet, Speed: 257 knots, Fuel: 412 gallons\n",
      "Altitude: 9056 feet, Speed: 258 knots, Fuel: 408 gallons\n",
      "Altitude: 9145 feet, Speed: 260 knots, Fuel: 404 gallons\n",
      "Altitude: 9203 feet, Speed: 261 knots, Fuel: 402 gallons\n",
      "Altitude: 9251 feet, Speed: 269 knots, Fuel: 397 gallons\n",
      "Altitude: 9337 feet, Speed: 264 knots, Fuel: 392 gallons\n",
      "Altitude: 9353 feet, Speed: 264 knots, Fuel: 390 gallons\n",
      "Altitude: 9444 feet, Speed: 258 knots, Fuel: 389 gallons\n",
      "Altitude: 9494 feet, Speed: 252 knots, Fuel: 387 gallons\n",
      "Altitude: 9556 feet, Speed: 253 knots, Fuel: 384 gallons\n",
      "Altitude: 9644 feet, Speed: 259 knots, Fuel: 381 gallons\n",
      "Altitude: 9717 feet, Speed: 260 knots, Fuel: 377 gallons\n",
      "Altitude: 9809 feet, Speed: 253 knots, Fuel: 374 gallons\n",
      "Altitude: 9843 feet, Speed: 246 knots, Fuel: 369 gallons\n",
      "Altitude: 9866 feet, Speed: 247 knots, Fuel: 367 gallons\n",
      "Altitude: 9962 feet, Speed: 237 knots, Fuel: 365 gallons\n",
      "Altitude: 10038 feet, Speed: 238 knots, Fuel: 360 gallons\n",
      "Flight reached 10,000 feet. Mission accomplished!\n"
     ]
    }
   ],
   "source": [
    "import random\n",
    "print(\"Welcome to Flight Simulator!\")\n",
    "altitude = 0\n",
    "speed = 100\n",
    "fuel = 1000\n",
    "\n",
    "max_altitude = 10000\n",
    "min_speed = 60\n",
    "fuel_consumption_rate = 1\n",
    "\n",
    "while altitude < max_altitude and fuel > 0:\n",
    "    altitude_change = random.randint(0, 100)\n",
    "    speed_change = random.randint(-10, 10)\n",
    "    fuel_change = random.randint(-5, -1)\n",
    "\n",
    "    altitude += altitude_change\n",
    "    speed += speed_change\n",
    "\n",
    "    if speed < min_speed:\n",
    "        speed = min_speed\n",
    "\n",
    "    fuel += fuel_change\n",
    "\n",
    "    if fuel < 0:\n",
    "        fuel = 0\n",
    "\n",
    "    print(f\"Altitude: {altitude} feet, Speed: {speed} knots, Fuel: {fuel} gallons\")\n",
    "\n",
    "if altitude >= max_altitude:\n",
    "    print(\"Flight reached 10,000 feet. Mission accomplished!\")\n",
    "else:\n",
    "    print(\"Out of fuel. Flight mission failed.\")\n",
    "\n"
   ]
  },
  {
   "cell_type": "markdown",
   "metadata": {},
   "source": [
    "## QUIZ TIME"
   ]
  },
  {
   "cell_type": "markdown",
   "metadata": {},
   "source": [
    "- Quick true or false quiz, whoever answers this correctly(raise your hand) gets a piece of gum or a dinero. \n",
    "<hr>\n",
    "\n",
    "> T or F    \n",
    "- A simulation will always have the same result.\n",
    "> T or F    \n",
    "- A simulation investigates a phenomenom without real-world constraints of time, money, or safety.\n",
    "> T or F    \n",
    "- A simulation has results which are more accurate than an experiment,\n",
    "> T or F    \n",
    "- A simulation can model real-worl events that are not practical for experiments"
   ]
  },
  {
   "cell_type": "markdown",
   "metadata": {},
   "source": [
    "## HOMEWORK HACK #1 "
   ]
  },
  {
   "cell_type": "markdown",
   "metadata": {},
   "source": [
    "First finish Popcorn Hack #3. Expand the simulation to involve your own money.\n",
    "\n",
    "starting money: $100\n",
    "\n",
    "(Dice Roll <= 3) &rarr; lose $70\n",
    "\n",
    "( 6> Dice Roll >3) &rarr; lose $40\n",
    "\n",
    "( 9> Dice Roll >=6) &rarr; win $20\n",
    "\n",
    "( Dice Roll>= 9 + Session Win) &rarr; win $50\n",
    "\n",
    "Jackpot &rarr; win $100"
   ]
  },
  {
   "cell_type": "code",
   "execution_count": null,
   "metadata": {},
   "outputs": [],
   "source": [
    "# Code Code Code\n",
    "import random\n",
    "\n",
    "def play_popcorn_game(starting_money):\n",
    "    balance = starting_money\n",
    "    session_win = 0\n",
    "    \n",
    "    while balance > 0:\n",
    "        dice_roll = random.randint(1, 6)\n",
    "        \n",
    "        if dice_roll <= 3:\n",
    "            balance -= 70\n",
    "        elif dice_roll <= 5:\n",
    "            balance -= 40\n",
    "        elif dice_roll <= 8:\n",
    "            balance += 20\n",
    "        elif dice_roll >= 9 and session_win == 0:\n",
    "            balance += 50\n",
    "            session_win = 1\n",
    "        elif dice_roll == 6:\n",
    "            balance += 100\n",
    "            \n",
    "        print(f\"Roll: {dice_roll}, Balance: ${balance}\")\n",
    "    \n",
    "    print(\"Game over!\")\n",
    "\n",
    "starting_money = 100\n",
    "\n",
    "play_popcorn_game(starting_money)\n"
   ]
  },
  {
   "cell_type": "markdown",
   "metadata": {},
   "source": [
    "## HOMEWORK HACK #2"
   ]
  },
  {
   "cell_type": "markdown",
   "metadata": {},
   "source": [
    "> Given initial parameters for a car simulation, including its initial speed, acceleration rate, deceleration rate, maximum speed, and initial distance, write a  program to simulate the car's journey and determine the final speed, distance covered, and time taken before it either covers 1000 meters or slows down to below 5 m/s?"
   ]
  },
  {
   "cell_type": "code",
   "execution_count": 32,
   "metadata": {},
   "outputs": [
    {
     "name": "stdout",
     "output_type": "stream",
     "text": [
      "Final Speed: 20 m/s\n",
      "Distance Covered: 1005 meters\n",
      "Time Taken: 51 seconds\n"
     ]
    }
   ],
   "source": [
    "def car_simulation(initial_speed, acceleration_rate, deceleration_rate, max_speed, initial_distance):\n",
    "    time = 0\n",
    "    speed = initial_speed\n",
    "    distance_covered = initial_distance\n",
    "    \n",
    "    target_distance = 1000\n",
    "    min_speed = 5\n",
    "    \n",
    "    while distance_covered < target_distance and speed >= min_speed:\n",
    "        time += 1\n",
    "        \n",
    "        if speed < max_speed:\n",
    "            speed += acceleration_rate\n",
    "        elif speed >= max_speed:\n",
    "            speed = max_speed\n",
    "        \n",
    "        distance_covered += speed\n",
    "        \n",
    "        if distance_covered >= target_distance:\n",
    "            break\n",
    "        elif speed > min_speed:\n",
    "            speed -= deceleration_rate\n",
    "    \n",
    "    return speed, distance_covered, time\n",
    "\n",
    "initial_speed = 10\n",
    "acceleration_rate = 2\n",
    "deceleration_rate = 1\n",
    "max_speed = 20\n",
    "initial_distance = 0\n",
    "\n",
    "final_speed, final_distance, time_taken = car_simulation(initial_speed, acceleration_rate, deceleration_rate, max_speed, initial_distance)\n",
    "\n",
    "print(f\"Final Speed: {final_speed} m/s\")\n",
    "print(f\"Distance Covered: {final_distance} meters\")\n",
    "print(f\"Time Taken: {time_taken} seconds\")\n"
   ]
  }
 ],
 "metadata": {
  "kernelspec": {
   "display_name": "Python 3",
   "language": "python",
   "name": "python3"
  },
  "language_info": {
   "codemirror_mode": {
    "name": "ipython",
    "version": 3
   },
   "file_extension": ".py",
   "mimetype": "text/x-python",
   "name": "python",
   "nbconvert_exporter": "python",
   "pygments_lexer": "ipython3",
   "version": "3.11.5"
  },
  "orig_nbformat": 4
 },
 "nbformat": 4,
 "nbformat_minor": 2
}
