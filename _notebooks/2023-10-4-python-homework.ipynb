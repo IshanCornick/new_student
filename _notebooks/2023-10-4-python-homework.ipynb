{
 "cells": [
  {
   "cell_type": "markdown",
   "metadata": {},
   "source": [
    "---\n",
    "toc: true\n",
    "comments: false\n",
    "layout: hack\n",
    "title: Homework\n",
    "description: Homework\n",
    "type: hacks\n",
    "courses: { compsci: {week: 5} }\n",
    "---"
   ]
  },
  {
   "cell_type": "code",
   "execution_count": 3,
   "metadata": {},
   "outputs": [
    {
     "name": "stdout",
     "output_type": "stream",
     "text": [
      "Name: kid1, Age: 1\n",
      "Name: kid2, Age: 2\n",
      "Name: kid3, Age: 3\n",
      "The oldest person is kid3 with age 3\n"
     ]
    }
   ],
   "source": [
    "class Person:\n",
    "    def __init__(self, name, age):\n",
    "        self.name = name\n",
    "        self.age = age\n",
    "\n",
    "def print_people(people):\n",
    "    for person in people.values():\n",
    "        print(f\"Name: {person.name}, Age: {person.age}\")\n",
    "\n",
    "def find_old(people_dict):\n",
    "    if not people_dict:\n",
    "        print(\"The dictionary is empty.\")\n",
    "        return\n",
    "\n",
    "    oldest_person = max(people_dict, key=lambda x: people_dict[x])\n",
    "\n",
    "    print(f\"The oldest person is {oldest_person} with age {people_dict[oldest_person]}\")\n",
    "\n",
    "people_list = {\n",
    "    \"kid1\": Person(\"kid1\", 1),\n",
    "    \"kid2\": Person(\"kid2\", 2),\n",
    "    \"kid3\": Person(\"kid3\", 3)\n",
    "}\n",
    "\n",
    "print_people(people_list)\n",
    "\n",
    "people_dict = {\"kid1\": 1, \"kid2\": 2, \"kid3\": 3}\n",
    "find_old(people_dict)\n",
    "\n",
    "# Output is:\n",
    "# Name: kid1, Age: 1\n",
    "# Name: kid2, Age: 2\n",
    "# Name: kid3, Age: 3\n",
    "# The oldest person is kid3 with age 3"
   ]
  }
 ],
 "metadata": {
  "kernelspec": {
   "display_name": "Python 3",
   "language": "python",
   "name": "python3"
  },
  "language_info": {
   "codemirror_mode": {
    "name": "ipython",
    "version": 3
   },
   "file_extension": ".py",
   "mimetype": "text/x-python",
   "name": "python",
   "nbconvert_exporter": "python",
   "pygments_lexer": "ipython3",
   "version": "3.11.5"
  },
  "orig_nbformat": 4
 },
 "nbformat": 4,
 "nbformat_minor": 2
}
