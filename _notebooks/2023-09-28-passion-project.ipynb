{
 "cells": [
  {
   "cell_type": "markdown",
   "metadata": {},
   "source": [
    "---\n",
    "layout: post\n",
    "title: Pong\n",
    "description: Pong game in python\n",
    "type: hacks\n",
    "courses: { compsci: {week: 5} }\n",
    "---"
   ]
  },
  {
   "cell_type": "code",
   "execution_count": 4,
   "metadata": {},
   "outputs": [
    {
     "ename": "SystemExit",
     "evalue": "",
     "output_type": "error",
     "traceback": [
      "An exception has occurred, use %tb to see the full traceback.\n",
      "\u001b[0;31mSystemExit\u001b[0m\n"
     ]
    },
    {
     "name": "stderr",
     "output_type": "stream",
     "text": [
      "/Users/Ishan/Library/Python/3.11/lib/python/site-packages/IPython/core/interactiveshell.py:3516: UserWarning: To exit: use 'exit', 'quit', or Ctrl-D.\n",
      "  warn(\"To exit: use 'exit', 'quit', or Ctrl-D.\", stacklevel=1)\n"
     ]
    },
    {
     "ename": "",
     "evalue": "",
     "output_type": "error",
     "traceback": [
      "\u001b[1;31mThe Kernel crashed while executing code in the the current cell or a previous cell. Please review the code in the cell(s) to identify a possible cause of the failure. Click <a href='https://aka.ms/vscodeJupyterKernelCrash'>here</a> for more info. View Jupyter <a href='command:jupyter.viewOutput'>log</a> for further details."
     ]
    }
   ],
   "source": [
    "import pygame, sys, random\n",
    "pygame.init()\n",
    "\n",
    "sf = pygame.font.SysFont\n",
    "\n",
    "WIN = pygame.display.set_mode((600, 380))\n",
    "FPS = 30\n",
    "pygame.display.set_caption('Pong')\n",
    "\n",
    "leftscore = pygame.USEREVENT + 1\n",
    "rightscore = pygame.USEREVENT + 2\n",
    "\n",
    "hit_sound = pygame.mixer.Sound(\"../images/hit.ogg\")\n",
    "wall_sound = pygame.mixer.Sound(\"../images/wall.ogg\")\n",
    "\n",
    "BLACK = (0, 0, 0)\n",
    "WHITE = (255,255,255)\n",
    "score_font = sf('Sans-serif',100)\n",
    "angel_range = [-5,-4,-3,-2,2,3,4,5]\n",
    "def reset_ball(ball,ball_v):\n",
    "  ball_v[0] =  random.choice(angel_range)\n",
    "  ball_v[1] =  random.choice(angel_range)\n",
    "  ball.x = 300\n",
    "  ball.y = 200  \n",
    "  \n",
    "def move_ball(ball,ball_v,left,right):\n",
    "  ball.x += ball_v[0]\n",
    "  ball.y += ball_v[1]\n",
    "  if ball.top <= 0 or ball.bottom >= 380:\n",
    "    ball_v[1] = -ball_v[1]\n",
    "    hit_sound.play()\n",
    "  if left.colliderect(ball) or right.colliderect(ball):\n",
    "    ball_v[0] = -ball_v[0]\n",
    "    hit_sound.play()\n",
    "  if ball.right >= 600:\n",
    "    pygame.event.post(pygame.event.Event(leftscore))\n",
    "  if ball.left <= 0:\n",
    "    pygame.event.post(pygame.event.Event(rightscore))\n",
    "    \n",
    "  \n",
    "    \n",
    "\n",
    "  \n",
    "def O10(keys_pressed, left, right):\n",
    "  if keys_pressed[pygame.K_UP] and right.top > 0:\n",
    "    right.y -= 10\n",
    "  if keys_pressed[pygame.K_DOWN] and right.bottom < 380:\n",
    "    right.y += 10\n",
    "  if keys_pressed[pygame.K_w] and left.top > 0:\n",
    "    left.y -= 10\n",
    "  if keys_pressed[pygame.K_s] and left.bottom < 380:\n",
    "    left.y += 10\n",
    "  \n",
    "   \n",
    " \n",
    "\n",
    "def main():\n",
    "  leftscores = 0\n",
    "  rightscores = 0\n",
    "  clock = pygame.time.Clock()\n",
    "  ball = pygame.Rect(300,200,10,10)\n",
    "  xs = 0\n",
    "  boarder = pygame.Rect(310,0,10,490)\n",
    "  \n",
    "  ball_v =  [random.randint(3,5),random.randint(3,5)]\n",
    "  right = pygame.Rect(550,150,10,80)\n",
    "  left = pygame.Rect(50,150,10,80)\n",
    "  while True:\n",
    "      for event in pygame.event.get():\n",
    "          if event.type == pygame.QUIT:\n",
    "              pygame.quit()\n",
    "              sys.exit()\n",
    "          if event.type == leftscore:\n",
    "            leftscores += 1\n",
    "            wall_sound.play()\n",
    "            reset_ball(ball,ball_v)\n",
    "          if event.type == rightscore:\n",
    "            rightscores += 1\n",
    "            wall_sound.play()\n",
    "            reset_ball(ball,ball_v)\n",
    "            \n",
    "\n",
    "      keys_pressed = pygame.key.get_pressed()\n",
    "      O10(keys_pressed, left, right)\n",
    "      move_ball(ball,ball_v,left,right)\n",
    "    \n",
    "      xs += 0.1\n",
    "      WIN.fill(BLACK)\n",
    "      pygame.draw.rect(WIN,WHITE, ball)\n",
    "      pygame.draw.rect(WIN,WHITE, right)\n",
    "      pygame.draw.rect(WIN,WHITE, left)\n",
    "      pygame.draw.rect(WIN,WHITE, boarder)\n",
    "\n",
    "  \n",
    "      left_scoret = score_font.render(\"{:02d}\".format(leftscores), 1 , WHITE)\n",
    "      right_scoret = score_font.render(\"{:02d}\".format(rightscores), 1, WHITE)\n",
    "      WIN.blit(right_scoret,(325,0))\n",
    "      WIN.blit(left_scoret,(225,0))\n",
    "      pygame.display.update()\n",
    "      clock.tick(FPS)\n",
    "\n",
    "main()"
   ]
  }
 ],
 "metadata": {
  "kernelspec": {
   "display_name": "Python 3",
   "language": "python",
   "name": "python3"
  },
  "language_info": {
   "codemirror_mode": {
    "name": "ipython",
    "version": 3
   },
   "file_extension": ".py",
   "mimetype": "text/x-python",
   "name": "python",
   "nbconvert_exporter": "python",
   "pygments_lexer": "ipython3",
   "version": "3.11.5"
  },
  "orig_nbformat": 4
 },
 "nbformat": 4,
 "nbformat_minor": 2
}
